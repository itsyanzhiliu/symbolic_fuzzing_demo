{
 "cells": [
  {
   "cell_type": "code",
   "execution_count": 233,
   "id": "b4cc7054",
   "metadata": {},
   "outputs": [],
   "source": [
    "# 1. Statically calculate. "
   ]
  },
  {
   "cell_type": "code",
   "execution_count": 234,
   "id": "cd66ca36",
   "metadata": {},
   "outputs": [],
   "source": [
    "import z3"
   ]
  },
  {
   "cell_type": "code",
   "execution_count": 235,
   "id": "48dff6e5",
   "metadata": {},
   "outputs": [],
   "source": [
    "# First, encode the DNN\n",
    "# (weights, bias, use activation function relu or not)\n",
    "n00 = ([1.0, -1.0], 0.0, True)\n",
    "n01 = ([1.0, 1.0], 0.0, True)\n",
    "hidden_layer0 = [n00,n01]\n",
    "\n",
    "n10 = ([0.5, -0.2], 0.0, True)\n",
    "n11 = ([-0.5, 0.1], 0.0, True)\n",
    "hidden_layer1 = [n10, n11]\n",
    "\n",
    "# don't use relu for outputs\n",
    "o0 = ([1.0, -1.0], 0.0, False)  \n",
    "o1 = ([-1.0, 1.0], 0.0, False)\n",
    "output_layer = [o0, o1]\n",
    "\n",
    "dnn = [hidden_layer0, hidden_layer1, output_layer]"
   ]
  },
  {
   "cell_type": "code",
   "execution_count": 236,
   "id": "87bb4f83",
   "metadata": {},
   "outputs": [],
   "source": [
    "# define relu using z3\n",
    "def relu(x):\n",
    "    return z3.If(x > 0, x, 0)"
   ]
  },
  {
   "cell_type": "code",
   "execution_count": 237,
   "id": "c2ffcfe9",
   "metadata": {},
   "outputs": [
    {
     "name": "stdout",
     "output_type": "stream",
     "text": [
      "And(n00 == If(i0 - i1 > 0, i0 - i1, 0),\n",
      "    n01 == If(i0 + i1 > 0, i0 + i1, 0),\n",
      "    n10 == If(1/2*n00 - 1/5*n01 > 0, 1/2*n00 - 1/5*n01, 0),\n",
      "    n11 ==\n",
      "    If(-1/2*n00 + 1/10*n01 > 0, -1/2*n00 + 1/10*n01, 0),\n",
      "    o0 == n10 - n11,\n",
      "    o1 == -n10 + n11)\n"
     ]
    }
   ],
   "source": [
    "# variables\n",
    "i0, i1, n00, n01, n10, n11, o0, o1 = z3.Reals('i0 i1 n00 n01 n10 n11 o0 o1')\n",
    "symbolic_states = []\n",
    "\n",
    "# equation on n00\n",
    "expr = n00 == relu(i0 - i1)\n",
    "symbolic_states.append(expr)\n",
    "\n",
    "# equation on n01\n",
    "expr = n01 == relu(i0 + i1)\n",
    "symbolic_states.append(expr)\n",
    "\n",
    "# equation on n10\n",
    "expr = n10 == relu( 0.5 * n00 - 0.2 * n01)\n",
    "symbolic_states.append(expr)\n",
    "\n",
    "# equation on n11\n",
    "expr = n11 == relu(-0.5 * n00 + 0.1 * n01)\n",
    "symbolic_states.append(expr)\n",
    "\n",
    "# equation on o0\n",
    "expr = o0 == n10 - n11\n",
    "symbolic_states.append(expr)\n",
    "\n",
    "# equation on o1\n",
    "expr = o1 == -n10 + n11\n",
    "symbolic_states.append(expr)\n",
    "\n",
    "# conjunction\n",
    "symbolic_states = z3.And(symbolic_states)\n",
    "\n",
    "print(symbolic_states)"
   ]
  },
  {
   "cell_type": "code",
   "execution_count": 238,
   "id": "b67da8bd",
   "metadata": {},
   "outputs": [],
   "source": [
    "assert z3.is_expr(symbolic_states)"
   ]
  },
  {
   "cell_type": "code",
   "execution_count": 239,
   "id": "52c4ad8c",
   "metadata": {},
   "outputs": [
    {
     "name": "stdout",
     "output_type": "stream",
     "text": [
      "[n01 = 10,\n",
      " n00 = 2,\n",
      " i0 = 6,\n",
      " o1 = 0,\n",
      " n10 = 0,\n",
      " i1 = 4,\n",
      " o0 = 0,\n",
      " n11 = 0]\n"
     ]
    }
   ],
   "source": [
    "z3.solve(symbolic_states)"
   ]
  },
  {
   "cell_type": "code",
   "execution_count": 240,
   "id": "67841f86",
   "metadata": {},
   "outputs": [
    {
     "name": "stdout",
     "output_type": "stream",
     "text": [
      "Prove that if (n0_0 > 0.0 and n0_1 <= 0.0) then o0 > o1\n",
      "Implies(And(n0_0 > 0, n0_1 <= 0), o0 > o1)\n",
      "counterexample\n",
      "[n01 = 15/2,\n",
      " n00 = 1/2,\n",
      " i0 = 4,\n",
      " n10 = 0,\n",
      " n11 = 1/2,\n",
      " n0_0 = 1/2,\n",
      " i1 = 7/2,\n",
      " o1 = 1/2,\n",
      " n0_1 = 0,\n",
      " o0 = -1/2]\n"
     ]
    }
   ],
   "source": [
    "print(\"Prove that if (n0_0 > 0.0 and n0_1 <= 0.0) then o0 > o1\")\n",
    "g = z3.Implies(z3.And([n0_0 > 0.0, n0_1 <= 0.0]), o0 > o1)\n",
    "print(g)  # Implies(And(i0 - i1 > 0, i0 + i1 <= 0), o0 > o1)\n",
    "z3.prove(z3.Implies(symbolic_states, g))  # proved"
   ]
  },
  {
   "cell_type": "code",
   "execution_count": 241,
   "id": "61672cd6",
   "metadata": {},
   "outputs": [
    {
     "name": "stdout",
     "output_type": "stream",
     "text": [
      "Prove that when (i0 - i1 > 0 and i0 + i1 <= 0), then o0 > o1\n",
      "Implies(And(i0 - i1 > 0, i0 + i1 <= 0), o0 > o1)\n",
      "proved\n"
     ]
    }
   ],
   "source": [
    "print(\"Prove that when (i0 - i1 > 0 and i0 + i1 <= 0), then o0 > o1\")\n",
    "g = z3.Implies(z3.And([i0 - i1 > 0.0, i0 + i1 <= 0.0]), o0 > o1)\n",
    "print(g)  # Implies(And(i0 - i1 > 0, i0 + i1 <= 0), o0 > o1)\n",
    "z3.prove(z3.Implies(symbolic_states, g))\n",
    "# proved"
   ]
  },
  {
   "cell_type": "code",
   "execution_count": 242,
   "id": "07a241e2",
   "metadata": {},
   "outputs": [
    {
     "name": "stdout",
     "output_type": "stream",
     "text": [
      "Disprove that when i0 - i1 >0, then o0 > o1\n",
      "Implies(i0 - i1 > 0, o0 > o1)\n",
      "counterexample\n",
      "[n01 = 10,\n",
      " n00 = 2,\n",
      " i1 = 4,\n",
      " i0 = 6,\n",
      " n11 = 0,\n",
      " o1 = 0,\n",
      " o0 = 0,\n",
      " n10 = 0]\n"
     ]
    }
   ],
   "source": [
    "print(\"Disprove that when i0 - i1 >0, then o0 > o1\")\n",
    "g = z3.Implies(i0 - i1 > 0.0, o0 > o1)\n",
    "print(g)  # Implies(And(i0 - i1 > 0, i0 + i1 <= 0), o0 > o1)\n",
    "z3.prove(z3.Implies(symbolic_states, g))"
   ]
  },
  {
   "cell_type": "code",
   "execution_count": 243,
   "id": "dae46b8e",
   "metadata": {},
   "outputs": [],
   "source": [
    "# 2. Dynamically calculate."
   ]
  },
  {
   "cell_type": "code",
   "execution_count": null,
   "id": "297b173c",
   "metadata": {},
   "outputs": [
    {
     "name": "stdout",
     "output_type": "stream",
     "text": [
      "And(n0_0 == If(i0 + -1*i1 > 0, i0 + -1*i1, 0),\n",
      "    n0_1 == If(i0 + i1 > 0, i0 + i1, 0),\n",
      "    n1_0 ==\n",
      "    If(1/2*n0_0 + -1/5*n0_1 > 0, 1/2*n0_0 + -1/5*n0_1, 0),\n",
      "    n1_1 ==\n",
      "    If(-1/2*n0_0 + 1/10*n0_1 > 0, -1/2*n0_0 + 1/10*n0_1, 0))\n"
     ]
    }
   ],
   "source": [
    "from collections import deque\n",
    "import z3\n",
    "\n",
    "def relu(x):\n",
    "    return z3.If(x > 0, x, 0)\n",
    "\n",
    "def my_symbolic_execution(dnn):\n",
    "    symbolic_states = []\n",
    "\n",
    "    i0, i1 = z3.Reals('i0 i1')\n",
    "    queue = deque([(i0, i1)])\n",
    "\n",
    "    for layer_idx, layer in enumerate(dnn):\n",
    "\n",
    "        # neurons of previous layer\n",
    "        previous_layer_values = queue.popleft()\n",
    "        value_0 = previous_layer_values[0]\n",
    "        value_1 = previous_layer_values[1]\n",
    "\n",
    "        layer_exprs = []\n",
    "\n",
    "        # TODO: handle negative numbers\n",
    "        weight_0, bias_0, use_relu_0 = layer[0]\n",
    "        weight_1, bias_1, use_relu_1 = layer[1]\n",
    "        weight_0[0], weight_0[1], bias_0 = z3.RealVal(weight_0[0]), z3.RealVal(weight_0[1]), z3.RealVal(bias_0)\n",
    "        weight_1[0], weight_1[1], bias_1 = z3.RealVal(weight_1[0]), z3.RealVal(weight_1[1]), z3.RealVal(bias_1)\n",
    "\n",
    "        # Convert to z3 variables\n",
    "        if layer_idx != len(dnn) - 1:\n",
    "            neuron_0 = z3.Real(f'n{layer_idx}_0')\n",
    "            neuron_1 = z3.Real(f'n{layer_idx}_1')\n",
    "\n",
    "        else:\n",
    "            o0, o1 = z3.Reals('o0 o1')\n",
    "            neuron_0 = o0\n",
    "            neuron_1 = o1\n",
    "\n",
    "        # Use relur or not\n",
    "        if use_relu_0:\n",
    "            neuron_expr = neuron_0 == relu(z3.simplify((value_0 * weight_0[0] + value_1 * weight_0[1]) + bias_0))\n",
    "            symbolic_states.append(neuron_expr)\n",
    "            neuron_expr = neuron_1 == relu(z3.simplify((value_0 * weight_1[0] + value_1 * weight_1[1]) + bias_0))\n",
    "            symbolic_states.append(neuron_expr)\n",
    "\n",
    "        # append to the queue\n",
    "        if layer_idx != len(dnn) - 1:\n",
    "            next_layer_values = [(neuron_0, neuron_1)]\n",
    "            queue.extend(next_layer_values)\n",
    "\n",
    "    symbolic_states = z3.And(symbolic_states)\n",
    "    print(symbolic_states)\n",
    "    return symbolic_states\n",
    "\n",
    "if __name__ == '__main__':\n",
    "    # Example DNN\n",
    "    dnn = [\n",
    "        [([1.0, -1.0], 0.0, True), ([1.0, 1.0], 0.0, True)],\n",
    "        [([0.5, -0.2], 0.0, True), ([-0.5, 0.1], 0.0, True)],\n",
    "        [([1.0, -1.0], 0.0, False), ([-1.0, 1.0], 0.0, False)]\n",
    "    ]\n",
    "\n",
    "    symbolic_states = my_symbolic_execution(dnn)"
   ]
  },
  {
   "cell_type": "code",
   "execution_count": 245,
   "id": "eb10b0d8",
   "metadata": {},
   "outputs": [
    {
     "name": "stdout",
     "output_type": "stream",
     "text": [
      "Prove that if (n0_0 > 0.0 and n0_1 <= 0.0) then o0 > o1\n",
      "Implies(And(n0_0 > 0, n0_1 <= 0), o0 > o1)\n",
      "counterexample\n",
      "[i1 = -3/8,\n",
      " n1_0 = 1/4,\n",
      " n0_0 = 1/2,\n",
      " n1_1 = 0,\n",
      " i0 = 1/8,\n",
      " n0_1 = 0,\n",
      " o1 = 0,\n",
      " o0 = 0]\n"
     ]
    }
   ],
   "source": [
    "print(\"Prove that if (n0_0 > 0.0 and n0_1 <= 0.0) then o0 > o1\")\n",
    "g = z3.Implies(z3.And([n0_0 > 0.0, n0_1 <= 0.0]), o0 > o1)\n",
    "print(g)  # Implies(And(i0 - i1 > 0, i0 + i1 <= 0), o0 > o1)\n",
    "z3.prove(z3.Implies(symbolic_states, g))  # proved"
   ]
  },
  {
   "cell_type": "code",
   "execution_count": 246,
   "id": "d4fecc8d",
   "metadata": {},
   "outputs": [
    {
     "name": "stdout",
     "output_type": "stream",
     "text": [
      "Prove that when (i0 - i1 > 0 and i0 + i1 <= 0), then o0 > o1\n",
      "Implies(And(i0 - i1 > 0, i0 + i1 <= 0), o0 > o1)\n",
      "counterexample\n",
      "[i1 = -1/4,\n",
      " n1_0 = 1/4,\n",
      " n1_1 = 0,\n",
      " i0 = 1/4,\n",
      " n0_1 = 0,\n",
      " o1 = 0,\n",
      " o0 = 0,\n",
      " n0_0 = 1/2]\n"
     ]
    }
   ],
   "source": [
    "print(\"Prove that when (i0 - i1 > 0 and i0 + i1 <= 0), then o0 > o1\")\n",
    "g = z3.Implies(z3.And([i0 - i1 > 0.0, i0 + i1 <= 0.0]), o0 > o1)\n",
    "print(g)  # Implies(And(i0 - i1 > 0, i0 + i1 <= 0), o0 > o1)\n",
    "z3.prove(z3.Implies(symbolic_states, g))\n",
    "# proved"
   ]
  },
  {
   "cell_type": "code",
   "execution_count": 247,
   "id": "524aab50",
   "metadata": {},
   "outputs": [
    {
     "name": "stdout",
     "output_type": "stream",
     "text": [
      "Disprove that when i0 - i1 >0, then o0 > o1\n",
      "Implies(i0 - i1 > 0, o0 > o1)\n",
      "counterexample\n",
      "[n1_1 = 0,\n",
      " i1 = 1/2,\n",
      " i0 = 3/4,\n",
      " n0_1 = 5/4,\n",
      " o0 = 0,\n",
      " n1_0 = 0,\n",
      " o1 = 0,\n",
      " n0_0 = 1/4]\n"
     ]
    }
   ],
   "source": [
    "print(\"Disprove that when i0 - i1 >0, then o0 > o1\")\n",
    "g = z3.Implies(i0 - i1 > 0.0, o0 > o1)\n",
    "print(g)  # Implies(And(i0 - i1 > 0, i0 + i1 <= 0), o0 > o1)\n",
    "z3.prove(z3.Implies(symbolic_states, g))"
   ]
  }
 ],
 "metadata": {
  "kernelspec": {
   "display_name": "Python 3 (ipykernel)",
   "language": "python",
   "name": "python3"
  },
  "language_info": {
   "codemirror_mode": {
    "name": "ipython",
    "version": 3
   },
   "file_extension": ".py",
   "mimetype": "text/x-python",
   "name": "python",
   "nbconvert_exporter": "python",
   "pygments_lexer": "ipython3",
   "version": "3.9.7"
  }
 },
 "nbformat": 4,
 "nbformat_minor": 5
}
